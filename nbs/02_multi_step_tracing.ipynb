{
  "cells": [
    {
      "cell_type": "markdown",
      "metadata": {
        "id": "9xROyQYP1DM9"
      },
      "source": [
        "<img src=\"https://raw.githubusercontent.com/comet-ml/opik/main/apps/opik-documentation/documentation/static/img/opik-logo.svg\" width=\"250\"/>"
      ]
    },
    {
      "cell_type": "markdown",
      "metadata": {
        "id": "6ScvGXUo3I80"
      },
      "source": [
        "# Tracking a Multi-step LLM Chain\n",
        "\n",
        "In this exercise, you'll track a multi-step LLM chain with Opik. You can use OpenAI or open source models via LiteLLM.\n",
        "\n",
        "If you have multiple steps in your LLM pipeline, you can use the `track` decorator to log the traces for each step. If OpenAI is called within one of these steps, the LLM call with be associated with that corresponding step:"
      ]
    },
    {
      "cell_type": "markdown",
      "metadata": {
        "id": "2YJRuver_SmK"
      },
      "source": [
        "# Imports & Configuration"
      ]
    },
    {
      "cell_type": "code",
      "execution_count": null,
      "metadata": {
        "id": "hZ6cxMoh3cpS"
      },
      "outputs": [],
      "source": [
        "#%pip install opik openai --quiet"
      ]
    },
    {
      "cell_type": "code",
      "execution_count": 5,
      "metadata": {
        "id": "Vhy3HZn63ce4"
      },
      "outputs": [],
      "source": [
        "from opik import track\n",
        "import opik\n",
        "from opik.integrations.openai import track_openai\n",
        "from openai import OpenAI\n",
        "import getpass\n",
        "import os\n",
        "from dotenv import load_dotenv"
      ]
    },
    {
      "cell_type": "code",
      "execution_count": null,
      "metadata": {
        "id": "ThX2YArw3mda"
      },
      "outputs": [],
      "source": [
        "# # opik configs\n",
        "# if \"OPIK_API_KEY\" not in os.environ:\n",
        "#     os.environ[\"OPIK_API_KEY\"] = getpass.getpass(\"Enter your Opik API key: \")\n",
        "\n",
        "# opik.configure()"
      ]
    },
    {
      "cell_type": "code",
      "execution_count": 6,
      "metadata": {
        "id": "T52NO_R73qb3"
      },
      "outputs": [],
      "source": [
        "load_dotenv()\n",
        "os.environ[\"OPIK_PROJECT_NAME\"] = \"Multi-step-Chain-Demo\"\n",
        "openai_client = OpenAI(api_key=os.getenv(\"OPENAI_API_KEY\"))\n",
        "openai_client = track_openai(openai_client)"
      ]
    },
    {
      "cell_type": "markdown",
      "metadata": {
        "id": "rCOFr4Wd4Frj"
      },
      "source": [
        "# Define First Step"
      ]
    },
    {
      "cell_type": "code",
      "execution_count": 7,
      "metadata": {
        "id": "ZJToIZM6pR5v"
      },
      "outputs": [],
      "source": [
        "@track\n",
        "def generate_meal(ingredient):\n",
        "    prompt = f\"Generate one example of a meal that can be made with {ingredient}.\"\n",
        "    res = openai_client.chat.completions.create(\n",
        "        model=\"gpt-3.5-turbo\",\n",
        "        messages=[\n",
        "            {\"role\": \"user\", \"content\": prompt}\n",
        "        ]\n",
        "    )\n",
        "    return res.choices[0].message.content"
      ]
    },
    {
      "cell_type": "markdown",
      "metadata": {
        "id": "M-1R6q7W4JnZ"
      },
      "source": [
        "# Define Second Step"
      ]
    },
    {
      "cell_type": "code",
      "execution_count": 8,
      "metadata": {
        "id": "Z_iBzyQgpvEo"
      },
      "outputs": [],
      "source": [
        "@track\n",
        "def generate_recipe(meal):\n",
        "    prompt = f\"Generate a step-by-step recipe for {meal}\"\n",
        "    res = openai_client.chat.completions.create(\n",
        "        model=\"gpt-3.5-turbo\",\n",
        "        messages=[\n",
        "            {\"role\": \"user\", \"content\": prompt}\n",
        "        ]\n",
        "    )\n",
        "    return res.choices[0].message.content"
      ]
    },
    {
      "cell_type": "markdown",
      "metadata": {
        "id": "H_Wc5RDhCaJs"
      },
      "source": [
        "# Call Chain"
      ]
    },
    {
      "cell_type": "code",
      "execution_count": 9,
      "metadata": {
        "id": "K6WmeCQ4p6js"
      },
      "outputs": [
        {
          "name": "stderr",
          "output_type": "stream",
          "text": [
            "OPIK: Started logging traces to the \"Multi-step-Chain-Demo\" project at https://www.comet.com/opik/hmtm/redirect/projects?name=Multi-step-Chain-Demo.\n"
          ]
        },
        {
          "data": {
            "text/plain": [
              "'Ingredients:\\n- 8 oz pasta (such as fettuccine or linguine)\\n- 1 lb shrimp, peeled and deveined\\n- 4 cloves garlic, minced\\n- 4 tbsp butter\\n- 1 cup heavy cream\\n- 1/2 cup grated Parmesan cheese\\n- Salt and pepper, to taste\\n- Chopped parsley, for garnish\\n- Garlic bread, for serving\\n\\nInstructions:\\n1. Cook the pasta according to package instructions until al dente. Drain and set aside.\\n2. In a large skillet, melt the butter over medium heat. Add the minced garlic and sauté for 1-2 minutes until fragrant.\\n3. Add the shrimp to the skillet and cook until pink and opaque, about 2-3 minutes per side. Remove the shrimp from the skillet and set aside.\\n4. Pour the heavy cream into the skillet and bring to a simmer. Stir in the Parmesan cheese and season with salt and pepper.\\n5. Add the cooked pasta and shrimp to the skillet and toss to coat everything in the creamy garlic butter sauce.\\n6. Cook for an additional 2-3 minutes until everything is heated through and well combined.\\n7. Remove the skillet from heat and garnish with chopped parsley.\\n8. Serve the garlic butter shrimp pasta hot with a side of garlic bread. Enjoy!'"
            ]
          },
          "execution_count": 9,
          "metadata": {},
          "output_type": "execute_result"
        }
      ],
      "source": [
        "@track\n",
        "def generate_recipe_from_ingredient(ingredient):\n",
        "    meal = generate_meal(ingredient)\n",
        "    story = generate_recipe(meal)\n",
        "    return story\n",
        "\n",
        "generate_recipe_from_ingredient(\"garlic\")"
      ]
    },
    {
      "cell_type": "markdown",
      "metadata": {
        "id": "4fRPxqyFq83h"
      },
      "source": [
        "# Try with your own example!"
      ]
    },
    {
      "cell_type": "code",
      "execution_count": null,
      "metadata": {
        "id": "SYgndLdprBQ3"
      },
      "outputs": [],
      "source": [
        "generate_recipe_from_ingredient(input(\"Enter an ingredient: \"))"
      ]
    }
  ],
  "metadata": {
    "colab": {
      "collapsed_sections": [
        "2YJRuver_SmK",
        "rCOFr4Wd4Frj",
        "M-1R6q7W4JnZ",
        "H_Wc5RDhCaJs",
        "4fRPxqyFq83h"
      ],
      "provenance": []
    },
    "kernelspec": {
      "display_name": ".venv",
      "language": "python",
      "name": "python3"
    },
    "language_info": {
      "codemirror_mode": {
        "name": "ipython",
        "version": 3
      },
      "file_extension": ".py",
      "mimetype": "text/x-python",
      "name": "python",
      "nbconvert_exporter": "python",
      "pygments_lexer": "ipython3",
      "version": "3.10.12"
    }
  },
  "nbformat": 4,
  "nbformat_minor": 0
}
