{
  "cells": [
    {
      "cell_type": "markdown",
      "metadata": {
        "id": "s8W39VBR0CAJ"
      },
      "source": [
        "<img src=\"https://raw.githubusercontent.com/comet-ml/opik/main/apps/opik-documentation/documentation/static/img/opik-logo.svg\" width=\"250\"/>"
      ]
    },
    {
      "cell_type": "markdown",
      "metadata": {
        "id": "UseBjjnnrrTO"
      },
      "source": [
        "# Food Chatbot Using Prompt Chaining\n",
        "\n",
        "In this exercise, you'll use Opik to trace a chatbot that uses prompt chaining. We've provided you an LLMClient class, which will allow you to easily use OpenAI or open source models via LiteLLM."
      ]
    },
    {
      "cell_type": "markdown",
      "metadata": {
        "id": "FBSBZpNlAczx"
      },
      "source": [
        "# Imports & Configuration"
      ]
    },
    {
      "cell_type": "code",
      "execution_count": 1,
      "metadata": {
        "id": "RPHuX5YytFLz"
      },
      "outputs": [
        {
          "name": "stdout",
          "output_type": "stream",
          "text": [
            "Note: you may need to restart the kernel to use updated packages.\n"
          ]
        }
      ],
      "source": [
        "%pip install opik openai litellm --quiet"
      ]
    },
    {
      "cell_type": "code",
      "execution_count": 2,
      "metadata": {
        "id": "HSIDXzU8rrTP"
      },
      "outputs": [],
      "source": [
        "import os\n",
        "import IPython\n",
        "import opik\n",
        "from opik import track\n",
        "from opik.integrations.openai import track_openai\n",
        "from openai import OpenAI\n",
        "import getpass\n",
        "\n",
        "# Define project name to enable tracing\n",
        "os.environ[\"OPIK_PROJECT_NAME\"] = \"food_chatbot\""
      ]
    },
    {
      "cell_type": "code",
      "execution_count": null,
      "metadata": {
        "id": "PMUAEgyEtMEO"
      },
      "outputs": [],
      "source": [
        "# # opik configs\n",
        "# if \"OPIK_API_KEY\" not in os.environ:\n",
        "#     os.environ[\"OPIK_API_KEY\"] = getpass.getpass(\"Enter your Opik API key: \")\n",
        "\n",
        "# opik.configure()"
      ]
    },
    {
      "cell_type": "code",
      "execution_count": 3,
      "metadata": {
        "id": "KilkqIqptWw0"
      },
      "outputs": [],
      "source": [
        "# openai configs\n",
        "if \"OPENAI_API_KEY\" not in os.environ:\n",
        "    os.environ[\"OPENAI_API_KEY\"] = getpass.getpass(\"Enter your OpenAI API key: \")\n",
        "\n",
        "client = OpenAI()\n",
        "openai_client = track_openai(client)"
      ]
    },
    {
      "cell_type": "markdown",
      "metadata": {
        "id": "i4jOTa1ZAlTM"
      },
      "source": [
        "# Prompts & Chain Steps"
      ]
    },
    {
      "cell_type": "markdown",
      "metadata": {
        "id": "Rxjh1iRtrrTP"
      },
      "source": [
        "Define menu items for the food chatbot:"
      ]
    },
    {
      "cell_type": "code",
      "execution_count": 4,
      "metadata": {
        "id": "AUjZawVdrrTQ"
      },
      "outputs": [],
      "source": [
        "menu_items = \"\"\"\n",
        "Menu: Kids Menu\n",
        "Food Item: Mini Cheeseburger\n",
        "Price: $6.99\n",
        "Vegan: N\n",
        "Popularity: 4/5\n",
        "Included: Mini beef patty, cheese, lettuce, tomato, and fries.\n",
        "\n",
        "Menu: Appetizers\n",
        "Food Item: Loaded Potato Skins\n",
        "Price: $8.99\n",
        "Vegan: N\n",
        "Popularity: 3/5\n",
        "Included: Crispy potato skins filled with cheese, bacon bits, and served with sour cream.\n",
        "\n",
        "Menu: Appetizers\n",
        "Food Item: Bruschetta\n",
        "Price: $7.99\n",
        "Vegan: Y\n",
        "Popularity: 4/5\n",
        "Included: Toasted baguette slices topped with fresh tomatoes, basil, garlic, and balsamic glaze.\n",
        "\n",
        "Menu: Main Menu\n",
        "Food Item: Grilled Chicken Caesar Salad\n",
        "Price: $12.99\n",
        "Vegan: N\n",
        "Popularity: 4/5\n",
        "Included: Grilled chicken breast, romaine lettuce, Parmesan cheese, croutons, and Caesar dressing.\n",
        "\n",
        "Menu: Main Menu\n",
        "Food Item: Classic Cheese Pizza\n",
        "Price: $10.99\n",
        "Vegan: N\n",
        "Popularity: 5/5\n",
        "Included: Thin-crust pizza topped with tomato sauce, mozzarella cheese, and fresh basil.\n",
        "\n",
        "Menu: Main Menu\n",
        "Food Item: Spaghetti Bolognese\n",
        "Price: $14.99\n",
        "Vegan: N\n",
        "Popularity: 4/5\n",
        "Included: Pasta tossed in a savory meat sauce made with ground beef, tomatoes, onions, and herbs.\n",
        "\n",
        "Menu: Vegan Options\n",
        "Food Item: Veggie Wrap\n",
        "Price: $9.99\n",
        "Vegan: Y\n",
        "Popularity: 3/5\n",
        "Included: Grilled vegetables, hummus, mixed greens, and a wrap served with a side of sweet potato fries.\n",
        "\n",
        "Menu: Vegan Options\n",
        "Food Item: Vegan Beyond Burger\n",
        "Price: $11.99\n",
        "Vegan: Y\n",
        "Popularity: 4/5\n",
        "Included: Plant-based patty, vegan cheese, lettuce, tomato, onion, and a choice of regular or sweet potato fries.\n",
        "\n",
        "Menu: Desserts\n",
        "Food Item: Chocolate Lava Cake\n",
        "Price: $6.99\n",
        "Vegan: N\n",
        "Popularity: 5/5\n",
        "Included: Warm chocolate cake with a gooey molten center, served with vanilla ice cream.\n",
        "\n",
        "Menu: Desserts\n",
        "Food Item: Fresh Berry Parfait\n",
        "Price: $5.99\n",
        "Vegan: Y\n",
        "Popularity: 4/5\n",
        "Included: Layers of mixed berries, granola, and vegan coconut yogurt.\n",
        "\"\"\""
      ]
    },
    {
      "cell_type": "code",
      "execution_count": 10,
      "metadata": {
        "id": "zl-C3LLSrrTP"
      },
      "outputs": [],
      "source": [
        "# Classe cliente simples para usar diferentes APIs de LLM (OpenAI ou LiteLLM)\n",
        "class LLMClient:\n",
        "  # Inicializa o cliente com o tipo e modelo\n",
        "  def __init__(self, client_type: str =\"openai\", model: str =\"gpt-4o-mini\"):\n",
        "    self.client_type = client_type  # Tipo de cliente (openai ou litellm)\n",
        "    self.model = model  # Modelo de linguagem a ser usado\n",
        "\n",
        "    # Se for OpenAI, inicializa o cliente com tracking\n",
        "    if self.client_type == \"openai\":\n",
        "      self.client = track_openai(OpenAI())\n",
        "    else:\n",
        "      self.client = None\n",
        "\n",
        "  # Função de consulta do LiteLLM\n",
        "  def _get_litellm_response(self, query: str, system: str = \"You are a helpful assistant.\"):\n",
        "    # Monta as mensagens no formato esperado\n",
        "    messages = [\n",
        "        {\"role\": \"system\", \"content\": system },\n",
        "        { \"role\": \"user\", \"content\": query }\n",
        "    ]\n",
        "\n",
        "    # Faz a chamada para o LiteLLM\n",
        "    response = litellm.completion(\n",
        "        model=self.model,\n",
        "        messages=messages\n",
        "    )\n",
        "\n",
        "    # Retorna o conteúdo da resposta\n",
        "    return response.choices[0].message.content\n",
        "\n",
        "  # Função de consulta da OpenAI - usa **kwargs para passar argumentos como temperature\n",
        "  def _get_openai_response(self, query: str, system: str = \"You are a helpful assistant.\", **kwargs):\n",
        "    # Monta as mensagens no formato esperado\n",
        "    messages = [\n",
        "        {\"role\": \"system\", \"content\": system },\n",
        "        { \"role\": \"user\", \"content\": query }\n",
        "    ]\n",
        "\n",
        "    # Faz a chamada para a API da OpenAI\n",
        "    response = self.client.chat.completions.create(\n",
        "        model=self.model,\n",
        "        messages=messages,\n",
        "        **kwargs\n",
        "    )\n",
        "\n",
        "    # Retorna o conteúdo da resposta\n",
        "    return response.choices[0].message.content\n",
        "\n",
        "  # Função principal de consulta que escolhe qual cliente usar\n",
        "  def query(self, query: str, system: str = \"You are a helpful assistant.\", **kwargs):\n",
        "    if self.client_type == 'openai':\n",
        "      return self._get_openai_response(query, system, **kwargs)\n",
        "    else:\n",
        "      return self._get_litellm_response(query, system)"
      ]
    },
    {
      "cell_type": "code",
      "execution_count": 11,
      "metadata": {
        "id": "1ZqVsuxut3zH"
      },
      "outputs": [],
      "source": [
        "# Initialize LLMClient\n",
        "\n",
        "llm_client = LLMClient()"
      ]
    },
    {
      "cell_type": "code",
      "execution_count": 12,
      "metadata": {
        "id": "S4Cs7tz7rrTQ"
      },
      "outputs": [],
      "source": [
        "# Função que implementa o passo de raciocínio do chatbot\n",
        "# @track é um decorador para rastrear a execução\n",
        "@track\n",
        "def reasoning_step(user_query, menu_items):\n",
        "    # Template do prompt que será enviado para o modelo de linguagem\n",
        "    # Define a tarefa de responder perguntas sobre um menu de comida\n",
        "    prompt_template = \"\"\"\n",
        "    Your task is to answer questions factually about a food menu, provided below and delimited by +++++. The user request is provided here: {request}\n",
        "\n",
        "    Step 1: The first step is to check if the user is asking a question related to any type of food (even if that food item is not on the menu). If the question is about any type of food, we move on to Step 2 and ignore the rest of Step 1. If the question is not about food, then we send a response: \"Sorry! I cannot help with that. Please let me know if you have a question about our food menu.\"\n",
        "\n",
        "    Step 2: In this step, we check that the user question is relevant to any of the items on the food menu. You should check that the food item exists in our menu first. If it doesn't exist then send a kind response to the user that the item doesn't exist in our menu and then include a list of available but similar food items without any other details (e.g., price). The food items available are provided below and delimited by +++++:\n",
        "\n",
        "    +++++\n",
        "    {menu_items}\n",
        "    +++++\n",
        "\n",
        "    Step 3: If the item exists in our food menu and the user is requesting specific information, provide that relevant information to the user using the food menu. Make sure to use a friendly tone and keep the response concise.\n",
        "\n",
        "    Perform the following reasoning steps to send a response to the user:\n",
        "    Step 1: <Step 1 reasoning>\n",
        "    Step 2: <Step 2 reasoning>\n",
        "    Response to the user (only output the final response): <response to user>\n",
        "    \"\"\"\n",
        "\n",
        "    # Formata o prompt com a query do usuário e os itens do menu\n",
        "    prompt = prompt_template.format(request=user_query, menu_items=menu_items)\n",
        "    # Envia o prompt para o modelo de linguagem e retorna a resposta\n",
        "    response = llm_client.query(prompt)\n",
        "    return response"
      ]
    },
    {
      "cell_type": "code",
      "execution_count": 13,
      "metadata": {
        "id": "YNNuJgRqrrTQ"
      },
      "outputs": [],
      "source": [
        "@track\n",
        "def extraction_step(reasoning):\n",
        "    prompt_template = \"\"\"\n",
        "    Extract the final response from delimited by ###.\n",
        "\n",
        "    ###\n",
        "    {reasoning}.\n",
        "    ###\n",
        "\n",
        "    Only output what comes after \"Response to the user:\".\n",
        "    \"\"\"\n",
        "\n",
        "    prompt = prompt_template.format(reasoning=reasoning)\n",
        "    response = llm_client.query(prompt)\n",
        "    return response"
      ]
    },
    {
      "cell_type": "code",
      "execution_count": 14,
      "metadata": {
        "id": "hIa1nUixrrTQ"
      },
      "outputs": [],
      "source": [
        "@track\n",
        "def refinement_step(final_response):\n",
        "    prompt_template = \"\"\"\n",
        "    Perform the following refinement steps on the final output delimited by ###.\n",
        "\n",
        "    1). Shorten the text to one sentence\n",
        "    2). Use a friendly tone\n",
        "\n",
        "    ###\n",
        "    {final_response}\n",
        "    ###\n",
        "    \"\"\"\n",
        "\n",
        "    prompt = prompt_template.format(final_response=final_response)\n",
        "    response = llm_client.query(prompt)\n",
        "    return response"
      ]
    },
    {
      "cell_type": "code",
      "execution_count": 15,
      "metadata": {
        "id": "5nFkQqGIrrTR"
      },
      "outputs": [],
      "source": [
        "@track\n",
        "def verification_step(user_question, refined_response, menu_items):\n",
        "    prompt_template = \"\"\"\n",
        "    Your task is to check that the refined response (delimited by ###) is providing a factual response based on the user question (delimited by @@@) and the menu below (delimited by +++++). If yes, just output the refined response in its original form (without the delimiters). If no, then make the correction to the response and return the new response only.\n",
        "\n",
        "    User question: @@@ {user_question} @@@\n",
        "\n",
        "    Refined response: ### {refined_response} ###\n",
        "\n",
        "    +++++\n",
        "    {menu_items}\n",
        "    +++++\n",
        "    \"\"\"\n",
        "\n",
        "    prompt = prompt_template.format(user_question=user_question, refined_response=refined_response, menu_items=menu_items)\n",
        "    response = llm_client.query(prompt)\n",
        "    return response"
      ]
    },
    {
      "cell_type": "markdown",
      "metadata": {
        "id": "YOzcx1rrvYUd"
      },
      "source": [
        "# Putting It All Together"
      ]
    },
    {
      "cell_type": "code",
      "execution_count": 17,
      "metadata": {
        "id": "8xOEoTqKrrTR"
      },
      "outputs": [
        {
          "name": "stdout",
          "output_type": "stream",
          "text": [
            "reasoning: Step 1: The user is asking about the price of a cheeseburger, which is a food item. Therefore, we will proceed to Step 2.\n",
            "\n",
            "Step 2: The item \"cheeseburger\" does not exist in the provided food menu. However, there is a \"Mini Cheeseburger\" listed. Since the user is asking about a cheeseburger in general, I will kindly inform them about the absence of that specific item while providing a related item. \n",
            "\n",
            "Response to the user: I'm sorry, but we don't have a cheeseburger on our menu. However, we do offer a Mini Cheeseburger for $6.99.\n",
            "extraction: I'm sorry, but we don't have a cheeseburger on our menu. However, we do offer a Mini Cheeseburger for $6.99.\n",
            "refinement: I'm sorry, but while we don't have a cheeseburger, we do have a delicious Mini Cheeseburger for just $6.99!\n",
            "verification: I'm sorry, but while we don't have a cheeseburger, we do have a delicious Mini Cheeseburger for just $6.99!\n"
          ]
        },
        {
          "data": {
            "text/plain": [
              "\"I'm sorry, but while we don't have a cheeseburger, we do have a delicious Mini Cheeseburger for just $6.99!\""
            ]
          },
          "execution_count": 17,
          "metadata": {},
          "output_type": "execute_result"
        }
      ],
      "source": [
        "@track\n",
        "def generate_food_chatbot(user_query, menu_items):\n",
        "    reasoning = reasoning_step(user_query, menu_items)\n",
        "    print(\"reasoning:\",reasoning)\n",
        "    extraction = extraction_step(reasoning)\n",
        "    print(\"extraction:\",extraction)\n",
        "    refinement = refinement_step(extraction)\n",
        "    print(\"refinement:\",refinement)\n",
        "    verification = verification_step(user_query, refinement, menu_items)\n",
        "    print(\"verification:\",verification)\n",
        "    return verification\n",
        "\n",
        "generate_food_chatbot(\"What is the price of the cheeseburger?\", menu_items)"
      ]
    },
    {
      "cell_type": "code",
      "execution_count": null,
      "metadata": {},
      "outputs": [],
      "source": []
    }
  ],
  "metadata": {
    "colab": {
      "collapsed_sections": [
        "FBSBZpNlAczx",
        "i4jOTa1ZAlTM",
        "YOzcx1rrvYUd"
      ],
      "provenance": []
    },
    "kernelspec": {
      "display_name": ".venv",
      "language": "python",
      "name": "python3"
    },
    "language_info": {
      "codemirror_mode": {
        "name": "ipython",
        "version": 3
      },
      "file_extension": ".py",
      "mimetype": "text/x-python",
      "name": "python",
      "nbconvert_exporter": "python",
      "pygments_lexer": "ipython3",
      "version": "3.10.12"
    }
  },
  "nbformat": 4,
  "nbformat_minor": 0
}
